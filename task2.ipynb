{
  "nbformat": 4,
  "nbformat_minor": 0,
  "metadata": {
    "colab": {
      "name": "task2.ipynb",
      "version": "0.3.2",
      "provenance": [],
      "include_colab_link": true
    },
    "kernelspec": {
      "name": "python2",
      "display_name": "Python 2"
    },
    "accelerator": "GPU"
  },
  "cells": [
    {
      "cell_type": "markdown",
      "metadata": {
        "id": "view-in-github",
        "colab_type": "text"
      },
      "source": [
        "<a href=\"https://colab.research.google.com/github/akshay1997/task2/blob/master/task2.ipynb\" target=\"_parent\"><img src=\"https://colab.research.google.com/assets/colab-badge.svg\" alt=\"Open In Colab\"/></a>"
      ]
    },
    {
      "metadata": {
        "id": "ryRl_LJTPCEk",
        "colab_type": "code",
        "outputId": "bd26ddb5-ced4-4fd6-b50b-12fbfb90f311",
        "colab": {
          "base_uri": "https://localhost:8080/",
          "height": 1601
        }
      },
      "cell_type": "code",
      "source": [
        "!python2 task2.py"
      ],
      "execution_count": 7,
      "outputs": [
        {
          "output_type": "stream",
          "text": [
            "/usr/local/lib/python2.7/dist-packages/sklearn/cross_validation.py:41: DeprecationWarning: This module was deprecated in version 0.18 in favor of the model_selection module into which all the refactored classes and functions are moved. Also note that the interface of the new CV iterators are different from that of this module. This module will be removed in 0.20.\n",
            "  \"This module will be removed in 0.20.\", DeprecationWarning)\n",
            "Using TensorFlow backend.\n",
            "fv 16500\n",
            "labels 16500\n",
            "tcmalloc: large alloc 1512693760 bytes == 0x5612c93ea000 @  0x7f25f61a21e7 0x7f25f422fcf1 0x7f25f42923a2 0x7f25f4295794 0x7f25f4295cd5 0x7f25f432bba1 0x56128bcf34ca 0x56128bcf0d0a 0x56128bcf0629 0x56128bd2161f 0x56128bd1c322 0x56128bd1b67d 0x56128bcca1ab 0x7f25f5d9fb97 0x56128bcc9a2a\n",
            "13200 3300\n",
            "Train on 11880 samples, validate on 1320 samples\n",
            "Epoch 1/30\n",
            "2018-12-09 20:26:11.459473: I tensorflow/stream_executor/cuda/cuda_gpu_executor.cc:964] successful NUMA node read from SysFS had negative value (-1), but there must be at least one NUMA node, so returning NUMA node zero\n",
            "2018-12-09 20:26:11.459974: I tensorflow/core/common_runtime/gpu/gpu_device.cc:1432] Found device 0 with properties: \n",
            "name: Tesla K80 major: 3 minor: 7 memoryClockRate(GHz): 0.8235\n",
            "pciBusID: 0000:00:04.0\n",
            "totalMemory: 11.17GiB freeMemory: 11.10GiB\n",
            "2018-12-09 20:26:11.460016: I tensorflow/core/common_runtime/gpu/gpu_device.cc:1511] Adding visible gpu devices: 0\n",
            "2018-12-09 20:26:12.310754: I tensorflow/core/common_runtime/gpu/gpu_device.cc:982] Device interconnect StreamExecutor with strength 1 edge matrix:\n",
            "2018-12-09 20:26:12.310811: I tensorflow/core/common_runtime/gpu/gpu_device.cc:988]      0 \n",
            "2018-12-09 20:26:12.310853: I tensorflow/core/common_runtime/gpu/gpu_device.cc:1001] 0:   N \n",
            "2018-12-09 20:26:12.311118: W tensorflow/core/common_runtime/gpu/gpu_bfc_allocator.cc:42] Overriding allow_growth setting because the TF_FORCE_GPU_ALLOW_GROWTH environment variable is set. Original config value was 0.\n",
            "2018-12-09 20:26:12.311238: I tensorflow/core/common_runtime/gpu/gpu_device.cc:1115] Created TensorFlow device (/job:localhost/replica:0/task:0/device:GPU:0 with 10758 MB memory) -> physical GPU (device: 0, name: Tesla K80, pci bus id: 0000:00:04.0, compute capability: 3.7)\n",
            "11880/11880 [==============================] - 17s 1ms/step - loss: 0.6237 - acc: 0.6481 - val_loss: 0.6357 - val_acc: 0.6470\n",
            "Epoch 2/30\n",
            "11880/11880 [==============================] - 14s 1ms/step - loss: 0.5865 - acc: 0.6776 - val_loss: 0.6855 - val_acc: 0.5990\n",
            "Epoch 3/30\n",
            "11880/11880 [==============================] - 14s 1ms/step - loss: 0.5452 - acc: 0.7151 - val_loss: 0.6900 - val_acc: 0.6179\n",
            "Epoch 4/30\n",
            "11880/11880 [==============================] - 15s 1ms/step - loss: 0.5107 - acc: 0.7352 - val_loss: 0.7305 - val_acc: 0.6255\n",
            "Epoch 5/30\n",
            "11880/11880 [==============================] - 14s 1ms/step - loss: 0.4881 - acc: 0.7515 - val_loss: 0.7653 - val_acc: 0.6088\n",
            "Epoch 6/30\n",
            "11880/11880 [==============================] - 14s 1ms/step - loss: 0.4709 - acc: 0.7644 - val_loss: 0.9041 - val_acc: 0.5667\n",
            "Epoch 7/30\n",
            "11880/11880 [==============================] - 14s 1ms/step - loss: 0.4587 - acc: 0.7679 - val_loss: 0.9235 - val_acc: 0.5884\n",
            "Epoch 8/30\n",
            "11880/11880 [==============================] - 14s 1ms/step - loss: 0.4478 - acc: 0.7749 - val_loss: 0.8837 - val_acc: 0.6018\n",
            "Epoch 9/30\n",
            "11880/11880 [==============================] - 14s 1ms/step - loss: 0.4392 - acc: 0.7795 - val_loss: 0.9576 - val_acc: 0.5881\n",
            "Epoch 10/30\n",
            "11880/11880 [==============================] - 14s 1ms/step - loss: 0.4341 - acc: 0.7838 - val_loss: 1.0213 - val_acc: 0.5828\n",
            "Epoch 11/30\n",
            "11880/11880 [==============================] - 14s 1ms/step - loss: 0.4290 - acc: 0.7898 - val_loss: 1.0847 - val_acc: 0.5745\n",
            "Epoch 12/30\n",
            "11880/11880 [==============================] - 14s 1ms/step - loss: 0.4218 - acc: 0.7947 - val_loss: 1.0985 - val_acc: 0.5616\n",
            "Epoch 13/30\n",
            "11880/11880 [==============================] - 14s 1ms/step - loss: 0.4202 - acc: 0.7917 - val_loss: 1.1380 - val_acc: 0.5856\n",
            "Epoch 14/30\n",
            "11880/11880 [==============================] - 14s 1ms/step - loss: 0.4139 - acc: 0.7961 - val_loss: 1.2020 - val_acc: 0.5556\n",
            "Epoch 15/30\n",
            "11880/11880 [==============================] - 14s 1ms/step - loss: 0.4096 - acc: 0.7983 - val_loss: 1.2618 - val_acc: 0.5427\n",
            "Epoch 16/30\n",
            "11880/11880 [==============================] - 14s 1ms/step - loss: 0.4089 - acc: 0.7990 - val_loss: 1.2971 - val_acc: 0.5386\n",
            "Epoch 17/30\n",
            "11880/11880 [==============================] - 14s 1ms/step - loss: 0.4042 - acc: 0.8016 - val_loss: 1.2222 - val_acc: 0.5641\n",
            "Epoch 18/30\n",
            "11880/11880 [==============================] - 14s 1ms/step - loss: 0.4024 - acc: 0.8034 - val_loss: 1.2046 - val_acc: 0.6008\n",
            "Epoch 19/30\n",
            "11880/11880 [==============================] - 14s 1ms/step - loss: 0.3986 - acc: 0.8054 - val_loss: 1.2368 - val_acc: 0.5780\n",
            "Epoch 20/30\n",
            "11880/11880 [==============================] - 14s 1ms/step - loss: 0.3986 - acc: 0.8051 - val_loss: 1.2699 - val_acc: 0.5758\n",
            "Epoch 21/30\n",
            "11880/11880 [==============================] - 14s 1ms/step - loss: 0.3956 - acc: 0.8067 - val_loss: 1.3518 - val_acc: 0.5682\n",
            "Epoch 22/30\n",
            "11880/11880 [==============================] - 14s 1ms/step - loss: 0.3943 - acc: 0.8080 - val_loss: 1.3903 - val_acc: 0.5674\n",
            "Epoch 23/30\n",
            "11880/11880 [==============================] - 14s 1ms/step - loss: 0.3914 - acc: 0.8077 - val_loss: 1.5380 - val_acc: 0.5452\n",
            "Epoch 24/30\n",
            "11880/11880 [==============================] - 14s 1ms/step - loss: 0.3915 - acc: 0.8089 - val_loss: 1.4197 - val_acc: 0.5649\n",
            "Epoch 25/30\n",
            "11880/11880 [==============================] - 14s 1ms/step - loss: 0.3881 - acc: 0.8112 - val_loss: 1.5740 - val_acc: 0.5503\n",
            "Epoch 26/30\n",
            "11880/11880 [==============================] - 14s 1ms/step - loss: 0.3878 - acc: 0.8121 - val_loss: 1.3564 - val_acc: 0.5871\n",
            "Epoch 27/30\n",
            "11880/11880 [==============================] - 14s 1ms/step - loss: 0.3869 - acc: 0.8121 - val_loss: 1.4785 - val_acc: 0.5710\n",
            "Epoch 28/30\n",
            "11880/11880 [==============================] - 14s 1ms/step - loss: 0.3850 - acc: 0.8099 - val_loss: 1.4238 - val_acc: 0.5583\n",
            "Epoch 29/30\n",
            "11880/11880 [==============================] - 14s 1ms/step - loss: 0.3824 - acc: 0.8162 - val_loss: 1.4534 - val_acc: 0.5727\n",
            "Epoch 30/30\n",
            "11880/11880 [==============================] - 14s 1ms/step - loss: 0.3826 - acc: 0.8144 - val_loss: 1.4740 - val_acc: 0.5861\n",
            "_________________________________________________________________\n",
            "Layer (type)                 Output Shape              Param #   \n",
            "=================================================================\n",
            "dense_1 (Dense)              (None, 5209)              27138890  \n",
            "_________________________________________________________________\n",
            "dense_2 (Dense)              (None, 3)                 15630     \n",
            "=================================================================\n",
            "Total params: 27,154,520\n",
            "Trainable params: 27,154,520\n",
            "Non-trainable params: 0\n",
            "_________________________________________________________________\n",
            "None\n",
            "Test Accuracy: 46.616163\n"
          ],
          "name": "stdout"
        }
      ]
    },
    {
      "metadata": {
        "id": "tCbfaI7CsBct",
        "colab_type": "code",
        "colab": {}
      },
      "cell_type": "code",
      "source": [
        ""
      ],
      "execution_count": 0,
      "outputs": []
    },
    {
      "metadata": {
        "id": "W1J79DjRQ54i",
        "colab_type": "code",
        "outputId": "6735a588-8cb3-4973-f807-30b7816d202d",
        "colab": {
          "base_uri": "https://localhost:8080/",
          "height": 34
        }
      },
      "cell_type": "code",
      "source": [
        "ls"
      ],
      "execution_count": 2,
      "outputs": [
        {
          "output_type": "stream",
          "text": [
            "\u001b[0m\u001b[01;34msample_data\u001b[0m/\n"
          ],
          "name": "stdout"
        }
      ]
    }
  ]
}